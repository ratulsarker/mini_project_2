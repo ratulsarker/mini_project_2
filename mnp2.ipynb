{
 "cells": [
  {
   "cell_type": "code",
   "execution_count": 21,
   "metadata": {},
   "outputs": [],
   "source": [
    "#import all libraries needed\n",
    "\n",
    "import os\n",
    "import numpy as np\n",
    "import pandas as pd\n",
    "import matplotlib.pyplot as plt\n",
    "from sklearn.feature_extraction.text import CountVectorizer, TfidfVectorizer\n",
    "from sklearn.linear_model import LogisticRegression\n",
    "from sklearn.tree import DecisionTreeClassifier\n",
    "from sklearn.ensemble import RandomForestClassifier, AdaBoostClassifier\n",
    "from sklearn.svm import LinearSVC\n",
    "from sklearn.metrics import accuracy_score, classification_report\n",
    "from sklearn.model_selection import train_test_split, GridSearchCV\n"
   ]
  },
  {
   "cell_type": "code",
   "execution_count": 22,
   "metadata": {},
   "outputs": [
    {
     "name": "stdout",
     "output_type": "stream",
     "text": [
      "attributes for data: ['DESCR', 'data', 'filenames', 'target', 'target_names']\n",
      "attributes for test: ['DESCR', 'data', 'filenames', 'target', 'target_names']\n"
     ]
    }
   ],
   "source": [
    "from sklearn.datasets import fetch_20newsgroups\n",
    "\n",
    "# Fetch the training data\n",
    "newsgroups_train = fetch_20newsgroups(subset='train', remove=('headers', 'footers', 'quotes'))\n",
    "# newsgroups_train = fetch_20newsgroups(subset='train')\n",
    "# Fetch the test data\n",
    "newsgroups_test = fetch_20newsgroups(subset='test', remove=('headers', 'footers', 'quotes'))\n",
    "# newsgroups_test = fetch_20newsgroups(subset='test')\n",
    "print(\"attributes for data:\",dir(newsgroups_train))\n",
    "print(\"attributes for test:\",dir(newsgroups_test))\n"
   ]
  },
  {
   "cell_type": "code",
   "execution_count": 31,
   "metadata": {},
   "outputs": [
    {
     "name": "stdout",
     "output_type": "stream",
     "text": [
      "# of training data: 11314\n",
      "# of testing data: 7532\n",
      "category: ['alt.atheism', 'comp.graphics', 'comp.os.ms-windows.misc', 'comp.sys.ibm.pc.hardware', 'comp.sys.mac.hardware', 'comp.windows.x', 'misc.forsale', 'rec.autos', 'rec.motorcycles', 'rec.sport.baseball', 'rec.sport.hockey', 'sci.crypt', 'sci.electronics', 'sci.med', 'sci.space', 'soc.religion.christian', 'talk.politics.guns', 'talk.politics.mideast', 'talk.politics.misc', 'talk.religion.misc']\n",
      "length of category: 20\n"
     ]
    }
   ],
   "source": [
    "#testing dataset 20 newsgroup\n",
    "# for i in range(5):\n",
    "#     print(newsgroups_train.data[i])  # print the first document\n",
    "#     print(\"\\nClass label:\", newsgroups_train.target[i])  # print its associated label\n",
    "#     print(\"\\nClass name:\", newsgroups_train.target_names[newsgroups_train.target[i]])  # print the name of the class\n",
    "#     print(\"\\n\\n\")\n",
    "\n",
    "\n",
    "# print(newsgroups_train.data[0])  # print the first document\n",
    "# print(\"\\nClass label:\", newsgroups_train.target[0])  # print its associated label\n",
    "# print(\"\\nClass name:\", newsgroups_train.target_names[newsgroups_train.target[0]])  # print the name of the class\n",
    "\n",
    "len_train = len(newsgroups_train.data)\n",
    "len_test = len(newsgroups_test.data)\n",
    "print(\"# of training data:\",len_train)\n",
    "print(\"# of testing data:\", len_test)  \n",
    "\n",
    "train_list_category = []\n",
    "for target_names in newsgroups_train.target_names and newsgroups_test.target_names:\n",
    "    train_list_category.append(target_names)\n",
    "    \n",
    "\n",
    "# for i in range(len_train):\n",
    "#     if newsgroups_test.target_names[newsgroups_train.target[i]] not in train_list_category:\n",
    "#         train_list_category.append(newsgroups_test.target_names[i])\n",
    "#     if newsgroups_train.target_names[i] not in train_list_category:\n",
    "#         train_list_category.append(newsgroups_train.target_names[i])\n",
    "        \n",
    "print(\"category:\",train_list_category)    \n",
    "print(\"length of category:\",len(train_list_category))\n",
    "\n",
    "# print(newsgroups_train.data[20000])  # print the first document\n",
    "# print(\"\\nClass label:\", newsgroups_train.target[20000])  # print its associated label\n",
    "# print(\"\\nClass name:\", newsgroups_train.target_names[newsgroups_train.target[0]])  # print the name of the class"
   ]
  },
  {
   "cell_type": "code",
   "execution_count": null,
   "metadata": {},
   "outputs": [],
   "source": []
  }
 ],
 "metadata": {
  "kernelspec": {
   "display_name": "Python 3",
   "language": "python",
   "name": "python3"
  },
  "language_info": {
   "codemirror_mode": {
    "name": "ipython",
    "version": 3
   },
   "file_extension": ".py",
   "mimetype": "text/x-python",
   "name": "python",
   "nbconvert_exporter": "python",
   "pygments_lexer": "ipython3",
   "version": "3.11.5"
  }
 },
 "nbformat": 4,
 "nbformat_minor": 2
}
